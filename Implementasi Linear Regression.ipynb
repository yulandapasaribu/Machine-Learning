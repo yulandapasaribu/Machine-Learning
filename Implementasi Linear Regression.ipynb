{
 "cells": [
  {
   "cell_type": "code",
   "execution_count": 57,
   "id": "de924725-395b-40f5-be1d-f3c57aaa6d44",
   "metadata": {},
   "outputs": [],
   "source": [
    "import numpy as np\n",
    "import pandas as pd\n",
    "import matplotlib.pyplot as plt"
   ]
  },
  {
   "cell_type": "code",
   "execution_count": 2,
   "id": "3709dca8-24e1-4558-ac61-6cfb3090f727",
   "metadata": {},
   "outputs": [],
   "source": [
    "%matplotlib inline"
   ]
  },
  {
   "cell_type": "code",
   "execution_count": 61,
   "id": "7c687424-2974-45d8-9fa7-4e9210464a30",
   "metadata": {},
   "outputs": [],
   "source": [
    "url = r\"C:\\Users\\pasar\\Machine Learning\\Week 4\\Praktikum\\Sesi2\\SimpleLR.txt\"\n",
    "df = pd.read_csv(url, sep='\\t', header=None)"
   ]
  },
  {
   "cell_type": "code",
   "execution_count": 63,
   "id": "24ce89f1-7452-4b9d-abf0-0bcaef5c2126",
   "metadata": {},
   "outputs": [
    {
     "name": "stdout",
     "output_type": "stream",
     "text": [
      "(36, 1)\n"
     ]
    }
   ],
   "source": [
    "print(df.shape)"
   ]
  },
  {
   "cell_type": "code",
   "execution_count": 23,
   "id": "8e62ed65-8f00-4990-9789-4dd069449ecf",
   "metadata": {},
   "outputs": [
    {
     "name": "stdout",
     "output_type": "stream",
     "text": [
      "      0     1\n",
      "0  12.0  15.0\n",
      "1  20.5  16.0\n",
      "2  21.0  18.0\n",
      "3  15.5  27.0\n",
      "4  15.3  21.0\n"
     ]
    }
   ],
   "source": [
    "\n",
    "\n",
    "print(df.head())"
   ]
  },
  {
   "cell_type": "code",
   "execution_count": 25,
   "id": "aab4108c-b6c6-4120-b555-0d2f5c038281",
   "metadata": {},
   "outputs": [
    {
     "name": "stdout",
     "output_type": "stream",
     "text": [
      "2\n"
     ]
    }
   ],
   "source": [
    "print(len(df.columns))"
   ]
  },
  {
   "cell_type": "code",
   "execution_count": 27,
   "id": "295506d2-0a78-42d3-b59d-1927c9aa5cc9",
   "metadata": {},
   "outputs": [
    {
     "name": "stdout",
     "output_type": "stream",
     "text": [
      "<class 'pandas.core.frame.DataFrame'>\n",
      "RangeIndex: 36 entries, 0 to 35\n",
      "Data columns (total 2 columns):\n",
      " #   Column  Non-Null Count  Dtype  \n",
      "---  ------  --------------  -----  \n",
      " 0   0       36 non-null     float64\n",
      " 1   1       36 non-null     float64\n",
      "dtypes: float64(2)\n",
      "memory usage: 708.0 bytes\n",
      "None\n"
     ]
    }
   ],
   "source": [
    "#View dataframe summary\n",
    "\n",
    "print(df.info())"
   ]
  },
  {
   "cell_type": "code",
   "execution_count": 29,
   "id": "fe44881c-5cf9-4112-9574-974456c56f50",
   "metadata": {},
   "outputs": [
    {
     "name": "stdout",
     "output_type": "stream",
     "text": [
      "           Sales  Advertising\n",
      "count  36.000000    36.000000\n",
      "mean   24.255556    28.527778\n",
      "std     6.185118    18.777625\n",
      "min    12.000000     1.000000\n",
      "25%    20.300000    15.750000\n",
      "50%    24.250000    23.000000\n",
      "75%    28.600000    41.000000\n",
      "max    36.500000    65.000000\n"
     ]
    }
   ],
   "source": [
    "#view descriptive statistics\n",
    "df.columns = ['Sales', 'Advertising']\n",
    "print(df.describe())"
   ]
  },
  {
   "cell_type": "code",
   "execution_count": 31,
   "id": "6fdfab9c-80c4-4304-b206-6fcb7596951b",
   "metadata": {},
   "outputs": [],
   "source": [
    "# Declare feature variable anda target variable\n",
    "\n",
    "X = df['Sales'].values\n",
    "y = df['Advertising'].values\n",
    "\n",
    "# Sales and Advertising data values are given by x anda y respectively \n",
    "\n",
    "# Values attribute of pandas dataframe returns the numpy arrays\n",
    "\n"
   ]
  },
  {
   "cell_type": "code",
   "execution_count": 33,
   "id": "7ff4ed50-c7fd-45e8-a436-54e007308424",
   "metadata": {},
   "outputs": [
    {
     "data": {
      "image/png": "[encoded data removed]",
      "text/plain": [
       "<Figure size 640x480 with 1 Axes>"
      ]
     },
     "metadata": {},
     "output_type": "display_data"
    }
   ],
   "source": [
    "# Plot scatter plot between X and y\n",
    "\n",
    "plt.scatter(X,y, color = 'blue', label = 'Scatter Plot')\n",
    "plt.title('Relationship between Sales and Advertising')\n",
    "plt.xlabel('Sales')\n",
    "plt.ylabel('Advertising')\n",
    "plt.legend(loc=4)\n",
    "plt.show()"
   ]
  },
  {
   "cell_type": "code",
   "execution_count": 35,
   "id": "f42419b7-4e73-472e-9e9f-2b19a802d960",
   "metadata": {},
   "outputs": [
    {
     "name": "stdout",
     "output_type": "stream",
     "text": [
      "(36,)\n",
      "(36,)\n"
     ]
    }
   ],
   "source": [
    "#Print the dimensions of X and y\n",
    "\n",
    "print(X.shape)\n",
    "print(y.shape)"
   ]
  },
  {
   "cell_type": "code",
   "execution_count": 39,
   "id": "6e4db21b-e0fb-4330-8ae4-3080fc612880",
   "metadata": {},
   "outputs": [],
   "source": [
    "# Reshape X and y\n",
    "\n",
    "X = X.reshape(-1,1)\n",
    "y = y.reshape(-1,1)\n"
   ]
  },
  {
   "cell_type": "code",
   "execution_count": 41,
   "id": "0714693c-e706-485e-a920-cf1a18170a15",
   "metadata": {},
   "outputs": [
    {
     "name": "stdout",
     "output_type": "stream",
     "text": [
      "(36, 1)\n",
      "(36, 1)\n"
     ]
    }
   ],
   "source": [
    "#print the dimensions of  X and y after reshaping\n",
    "\n",
    "print(X.shape)\n",
    "print(y.shape)"
   ]
  },
  {
   "cell_type": "code",
   "execution_count": 43,
   "id": "ae3b6920-78bf-4ccf-b921-afd95435e224",
   "metadata": {},
   "outputs": [],
   "source": [
    "# Split X and y into training and test data sets\n",
    "\n",
    "from sklearn.model_selection import train_test_split\n",
    "X_train, X_test, y_train, y_test = train_test_split(X, y, test_size=0.33, random_state=42)"
   ]
  },
  {
   "cell_type": "code",
   "execution_count": 44,
   "id": "3161a759-e905-4280-8c43-93164897e821",
   "metadata": {},
   "outputs": [
    {
     "name": "stdout",
     "output_type": "stream",
     "text": [
      "(24, 1)\n",
      "(24, 1)\n",
      "(12, 1)\n",
      "(12, 1)\n"
     ]
    }
   ],
   "source": [
    "# Print the dimensions\n",
    "print(X_train.shape)\n",
    "print(y_train.shape)\n",
    "print(X_test.shape)\n",
    "print(y_test.shape)"
   ]
  },
  {
   "cell_type": "code",
   "execution_count": 65,
   "id": "2ad0fead-c661-4300-bbe2-0fa61f2efbf1",
   "metadata": {},
   "outputs": [],
   "source": [
    "# Fit the linear model\n",
    "\n",
    "#Instantiate the linear regression object lm\n",
    "from sklearn.linear_model import LinearRegression\n",
    "lm = LinearRegression()\n",
    "\n",
    "# Train the model ussing training data sets\n",
    "lm.fit(X_train,y_train)\n",
    "\n",
    "# Predict on the test data\n",
    "y_pred=lm.predict(X_test)"
   ]
  },
  {
   "cell_type": "code",
   "execution_count": 67,
   "id": "068eb67d-e7e3-4fdb-9078-d916bc992dbb",
   "metadata": {},
   "outputs": [
    {
     "data": {
      "text/plain": [
       "array([[ 8.10108551],\n",
       "       [21.74438002],\n",
       "       [22.54692675],\n",
       "       [13.71891266],\n",
       "       [13.39789396]])"
      ]
     },
     "execution_count": 67,
     "metadata": {},
     "output_type": "execute_result"
    }
   ],
   "source": [
    "lm.predict(X)[0:5]"
   ]
  },
  {
   "cell_type": "code",
   "execution_count": 33,
   "id": "2e8ad833-9953-4af2-b5e3-21eff48321bb",
   "metadata": {},
   "outputs": [
    {
     "name": "stdout",
     "output_type": "stream",
     "text": [
      "Estimated model slope, a:  [[1.60509347]]\n",
      "Estimated model intercept, b:  (array([-11.16003616]),)\n"
     ]
    }
   ],
   "source": [
    "# Compute model slape and intercept\n",
    "\n",
    "a =lm.coef_\n",
    "b = lm.intercept_,\n",
    "print(\"Estimated model slope, a: \", a)\n",
    "print(\"Estimated model intercept, b: \", b)\n"
   ]
  },
  {
   "cell_type": "code",
   "execution_count": null,
   "id": "9be4f35a-b9ce-4882-907a-418c81e15638",
   "metadata": {},
   "outputs": [],
   "source": [
    "# So, our fitted regression line is\n",
    "\n",
    "# y = 1.60509347 * x 11.16003616 \n",
    "\n",
    "# That is our Linear model."
   ]
  },
  {
   "cell_type": "code",
   "execution_count": 39,
   "id": "715e6d1c-fa29-408e-8fb2-ca7c480cf82e",
   "metadata": {},
   "outputs": [
    {
     "name": "stdout",
     "output_type": "stream",
     "text": [
      "[[27.36220717]]\n"
     ]
    }
   ],
   "source": [
    "# Reshape the input value to a 2D array\n",
    "value = np.array([[24]])  # Reshape to a 2D array\n",
    "\n",
    "# Predict using the reshaped value\n",
    "prediction = lm.predict(value)\n",
    "\n",
    "# Print the result\n",
    "print(str(prediction))\n"
   ]
  },
  {
   "cell_type": "code",
   "execution_count": null,
   "id": "74f5139a-6f6f-47e5-b08f-5a1dd84bb4ed",
   "metadata": {},
   "outputs": [],
   "source": []
  }
 ],
 "metadata": {
  "kernelspec": {
   "display_name": "Python 3 (ipykernel)",
   "language": "python",
   "name": "python3"
  },
  "language_info": {
   "codemirror_mode": {
    "name": "ipython",
    "version": 3
   },
   "file_extension": ".py",
   "mimetype": "text/x-python",
   "name": "python",
   "nbconvert_exporter": "python",
   "pygments_lexer": "ipython3",
   "version": "3.12.4"
  }
 },
 "nbformat": 4,
 "nbformat_minor": 5
}
